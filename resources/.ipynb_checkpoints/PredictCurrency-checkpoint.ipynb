{
 "cells": [
  {
   "cell_type": "markdown",
   "id": "73f3ebe0-aa9f-4275-b59e-9c1dbf4c20b9",
   "metadata": {},
   "source": [
    "# 1. Import Data from API"
   ]
  },
  {
   "cell_type": "code",
   "execution_count": 112,
   "id": "312093e2-8d9a-45e1-83c8-d3721fcec086",
   "metadata": {},
   "outputs": [],
   "source": [
    "import matplotlib.pyplot as plt\n",
    "import pandas as pd\n",
    "import numpy as np\n",
    "import datetime as datetime\n",
    "import json,requests"
   ]
  },
  {
   "cell_type": "code",
   "execution_count": 113,
   "id": "4efea534-17bd-4cc7-b38e-68b05b3164c6",
   "metadata": {},
   "outputs": [],
   "source": [
    "blad = None\n",
    "kurs_usd = []\n",
    "kurs_eur = []\n",
    "kurs_gbp = []\n",
    "kurs_chf = []\n",
    "\n",
    "def get_data(api_point,blad):\n",
    "    data = []\n",
    "    try:\n",
    "        # 1. Wykonanie zapytania GET do API\n",
    "        response = requests.get(api_point, timeout=10) # Ustawienie timeoutu\n",
    "        # 2. Sprawdzenie, czy odpowiedź jest poprawna (status 200)\n",
    "        response.raise_for_status() \n",
    "        # 3. Parsowanie danych JSON na słownik Pythona\n",
    "        data = response.json()\n",
    "        \n",
    "    except requests.exceptions.RequestException as e:\n",
    "        # Obsługa błędów związanych z zapytaniem (np. brak połączenia, timeout)\n",
    "        blad = f\"Błąd połączenia z API: {e}\"\n",
    "    except Exception as e:\n",
    "        # Inne błędy (np. błąd parsowania JSON, choć requests.json() to obsługuje)\n",
    "        blad = f\"Wystąpił nieoczekiwany błąd: {e}\"\n",
    "    return [ data, blad]\n",
    "\n",
    "   \n",
    "#[kurs_usd_1 ,blad] = get_data(\"https://api.nbp.pl/api/exchangerates/rates/a/usd/2023-10-15/2024-10-14/\",blad)\n",
    "#[kurs_usd_2 ,blad] = get_data(\"https://api.nbp.pl/api/exchangerates/rates/a/usd/2024-10-15/2025-10-14/\",blad)\n",
    "#kurs_usd = np.concatenate((kurs_usd_1['rates'], kurs_usd_2['rates']))"
   ]
  },
  {
   "cell_type": "code",
   "execution_count": null,
   "id": "061cb6ef-e02c-40dc-9b46-16b38e999fdd",
   "metadata": {},
   "outputs": [],
   "source": [
    "# Kurs Dolar\n",
    "for cur in range(1,25):\n",
    "    nex = cur+1\n",
    "    if cur < 10:\n",
    "        cur_str = \"0\"+str(cur)\n",
    "    else:\n",
    "        cur_str = str(cur)\n",
    "    if nex < 10:\n",
    "        nex_str = \"0\"+str(nex)\n",
    "    else:\n",
    "        nex_str = str(nex)\n",
    "    \n",
    "    [kurs_usd_cur ,blad] = get_data(\"https://api.nbp.pl/api/exchangerates/rates/a/usd/20\"+cur_str+\"-10-15/20\"+nex_str+\"-10-14/\",blad)\n",
    "    kurs_usd = np.concatenate(( kurs_usd, kurs_usd_cur['rates']))\n",
    "\n",
    "df_kurs_usd = pd.DataFrame.from_records(kurs_usd)\n",
    "#df_kurs_usd = df_kurs_usd.set_index('effectiveDate')\n",
    "df_kurs_usd.to_csv('kurs_usd.csv')"
   ]
  },
  {
   "cell_type": "code",
   "execution_count": null,
   "id": "23aa9375-926e-47d5-bafb-811a292e39e8",
   "metadata": {},
   "outputs": [],
   "source": [
    "# Kurs Euro\n",
    "for cur in range(1,25):\n",
    "    nex = cur+1\n",
    "    if cur < 10:\n",
    "        cur_str = \"0\"+str(cur)\n",
    "    else:\n",
    "        cur_str = str(cur)\n",
    "    if nex < 10:\n",
    "        nex_str = \"0\"+str(nex)\n",
    "    else:\n",
    "        nex_str = str(nex)\n",
    "    \n",
    "    [kurs_eur_cur ,blad] = get_data(\"https://api.nbp.pl/api/exchangerates/rates/a/eur/20\"+cur_str+\"-10-15/20\"+nex_str+\"-10-14/\",blad)\n",
    "    kurs_eur = np.concatenate(( kurs_eur, kurs_eur_cur['rates']))\n",
    "\n",
    "df_kurs_eur = pd.DataFrame.from_records(kurs_eur)\n",
    "#df_kurs_eur = df_kurs_eur.set_index('effectiveDate')\n",
    "df_kurs_eur.to_csv('kurs_eur.csv')"
   ]
  },
  {
   "cell_type": "code",
   "execution_count": null,
   "id": "dd964898-51e8-48ca-9a71-5fe7f2b121e0",
   "metadata": {},
   "outputs": [],
   "source": [
    "# Kurs Funt Bretyjski\n",
    "for cur in range(1,25):\n",
    "    nex = cur+1\n",
    "    if cur < 10:\n",
    "        cur_str = \"0\"+str(cur)\n",
    "    else:\n",
    "        cur_str = str(cur)\n",
    "    if nex < 10:\n",
    "        nex_str = \"0\"+str(nex)\n",
    "    else:\n",
    "        nex_str = str(nex)\n",
    "    \n",
    "    [kurs_gbp_cur ,blad] = get_data(\"https://api.nbp.pl/api/exchangerates/rates/a/gbp/20\"+cur_str+\"-10-15/20\"+nex_str+\"-10-14/\",blad)\n",
    "    kurs_gbp = np.concatenate(( kurs_gbp, kurs_gbp_cur['rates']))\n",
    "\n",
    "df_kurs_gbp = pd.DataFrame.from_records(kurs_gbp)\n",
    "#df_kurs_gbp = df_kurs_gbp.set_index('effectiveDate')\n",
    "df_kurs_gbp.to_csv('kurs_gbp.csv')"
   ]
  },
  {
   "cell_type": "code",
   "execution_count": null,
   "id": "a608c778-0d32-4c38-bdca-17a6a5c609e6",
   "metadata": {},
   "outputs": [],
   "source": [
    "# Kurs Frank Szwajcarski\n",
    "for cur in range(1,25):\n",
    "    nex = cur+1\n",
    "    if cur < 10:\n",
    "        cur_str = \"0\"+str(cur)\n",
    "    else:\n",
    "        cur_str = str(cur)\n",
    "    if nex < 10:\n",
    "        nex_str = \"0\"+str(nex)\n",
    "    else:\n",
    "        nex_str = str(nex)\n",
    "    \n",
    "    [kurs_chf_cur ,blad] = get_data(\"https://api.nbp.pl/api/exchangerates/rates/a/chf/20\"+cur_str+\"-10-15/20\"+nex_str+\"-10-14/\",blad)\n",
    "    kurs_chf = np.concatenate(( kurs_chf, kurs_chf_cur['rates']))\n",
    "\n",
    "df_kurs_chf = pd.DataFrame.from_records(kurs_chf)\n",
    "#df_kurs_chf = df_kurs_chf.set_index('effectiveDate')\n",
    "df_kurs_chf.to_csv('kurs_chf.csv')"
   ]
  },
  {
   "cell_type": "code",
   "execution_count": null,
   "id": "ad4f6b6c-7f5d-4ee1-8b96-924a4c2bc035",
   "metadata": {},
   "outputs": [],
   "source": [
    "currenciesDict = {\n",
    "'Date':df_kurs_usd['effectiveDate'],\n",
    "'USD':df_kurs_usd['mid'],\n",
    "'EUR':df_kurs_eur['mid'],\n",
    "'GBP':df_kurs_gbp['mid'],\n",
    "'CHF':df_kurs_chf['mid'],\n",
    "}\n",
    "currenciesDF = pd.DataFrame.from_dict(currenciesDict)\n",
    "currenciesDF[\"Date\"] = pd.to_datetime(currenciesDF[\"Date\"])"
   ]
  },
  {
   "cell_type": "code",
   "execution_count": null,
   "id": "0235242d-3157-462c-ae21-b87001c5be68",
   "metadata": {},
   "outputs": [],
   "source": [
    "currenciesDF"
   ]
  },
  {
   "cell_type": "code",
   "execution_count": null,
   "id": "4be0d169-a383-4171-85bb-4e3ff114d67d",
   "metadata": {},
   "outputs": [],
   "source": [
    "plt.plot(currenciesDF[\"Date\"],currenciesDF['USD'],label='USD');\n",
    "plt.plot(currenciesDF[\"Date\"],currenciesDF['EUR'],label='EUR');\n",
    "plt.plot(currenciesDF[\"Date\"],currenciesDF['GBP'],label='GBP');\n",
    "plt.plot(currenciesDF[\"Date\"],currenciesDF['CHF'],label='CHF');\n",
    "plt.legend()\n",
    "plt.xlabel(\"Rok\")\n",
    "plt.ylabel(\"Wartość\")"
   ]
  },
  {
   "cell_type": "code",
   "execution_count": null,
   "id": "19242c4d-c4d6-4017-8c74-b7125bdfbae9",
   "metadata": {},
   "outputs": [],
   "source": [
    "currenciesDF.isna().sum()"
   ]
  },
  {
   "cell_type": "code",
   "execution_count": null,
   "id": "94ecb009-6df8-489d-8943-4ed4a39284c0",
   "metadata": {},
   "outputs": [],
   "source": [
    "currenciesDF.describe()"
   ]
  },
  {
   "cell_type": "code",
   "execution_count": null,
   "id": "20a11345-7d19-4e64-8b25-7ff4c8816998",
   "metadata": {},
   "outputs": [],
   "source": [
    "currenciesDF.dtypes"
   ]
  },
  {
   "cell_type": "code",
   "execution_count": null,
   "id": "613c35dd-76a5-4131-bac9-a6e800f50f2d",
   "metadata": {},
   "outputs": [],
   "source": []
  }
 ],
 "metadata": {
  "kernelspec": {
   "display_name": "Python 3 (ipykernel)",
   "language": "python",
   "name": "python3"
  },
  "language_info": {
   "codemirror_mode": {
    "name": "ipython",
    "version": 3
   },
   "file_extension": ".py",
   "mimetype": "text/x-python",
   "name": "python",
   "nbconvert_exporter": "python",
   "pygments_lexer": "ipython3",
   "version": "3.13.7"
  }
 },
 "nbformat": 4,
 "nbformat_minor": 5
}
