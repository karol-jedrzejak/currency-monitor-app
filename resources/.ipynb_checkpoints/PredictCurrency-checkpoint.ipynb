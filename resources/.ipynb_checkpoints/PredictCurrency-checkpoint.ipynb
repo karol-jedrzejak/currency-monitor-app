{
 "cells": [
  {
   "cell_type": "code",
   "execution_count": 1,
   "id": "312093e2-8d9a-45e1-83c8-d3721fcec086",
   "metadata": {},
   "outputs": [],
   "source": [
    "import matplotlib.pyplot as plt\n",
    "import pandas as pd\n",
    "import numpy as np\n",
    "import datetime as datetime\n",
    "import json,requests"
   ]
  },
  {
   "cell_type": "code",
   "execution_count": null,
   "id": "f0557285-380d-4bf9-b70d-88b5d85a21db",
   "metadata": {},
   "outputs": [],
   "source": []
  },
  {
   "cell_type": "code",
   "execution_count": null,
   "id": "4efea534-17bd-4cc7-b38e-68b05b3164c6",
   "metadata": {},
   "outputs": [],
   "source": [
    "blad = None\n",
    "kurs_usd = {}\n",
    "\n",
    "def get_data(api_point,blad):\n",
    "    data = []\n",
    "    try:\n",
    "        # 1. Wykonanie zapytania GET do API\n",
    "        response = requests.get(api_point, timeout=10) # Ustawienie timeoutu\n",
    "        # 2. Sprawdzenie, czy odpowiedź jest poprawna (status 200)\n",
    "        response.raise_for_status() \n",
    "        # 3. Parsowanie danych JSON na słownik Pythona\n",
    "        data = response.json()\n",
    "        \n",
    "    except requests.exceptions.RequestException as e:\n",
    "        # Obsługa błędów związanych z zapytaniem (np. brak połączenia, timeout)\n",
    "        blad = f\"Błąd połączenia z API: {e}\"\n",
    "    except Exception as e:\n",
    "        # Inne błędy (np. błąd parsowania JSON, choć requests.json() to obsługuje)\n",
    "        blad = f\"Wystąpił nieoczekiwany błąd: {e}\"\n",
    "    return [ data, blad]\n",
    "\n",
    "kurs_usd = []\n",
    "for cur in range(1,25):\n",
    "    nex = cur+1\n",
    "    if cur < 10:\n",
    "        cur_str = \"0\"+str(cur)\n",
    "    else:\n",
    "        cur_str = str(cur)\n",
    "    if nex < 10:\n",
    "        nex_str = \"0\"+str(nex)\n",
    "    else:\n",
    "        nex_str = str(nex)\n",
    "    \n",
    "    [kurs_usd_cur ,blad] = get_data(\"https://api.nbp.pl/api/exchangerates/rates/a/usd/20\"+cur_str+\"-10-15/20\"+nex_str+\"-10-14/\",blad)\n",
    "    kurs_usd = np.concatenate(( kurs_usd, kurs_usd_cur['rates']))\n",
    "\n",
    "    \n",
    "#[kurs_usd_1 ,blad] = get_data(\"https://api.nbp.pl/api/exchangerates/rates/a/usd/2023-10-15/2024-10-14/\",blad)\n",
    "#[kurs_usd_2 ,blad] = get_data(\"https://api.nbp.pl/api/exchangerates/rates/a/usd/2024-10-15/2025-10-14/\",blad)\n",
    "#kurs_usd = np.concatenate((kurs_usd_1['rates'], kurs_usd_2['rates']))"
   ]
  },
  {
   "cell_type": "code",
   "execution_count": null,
   "id": "061cb6ef-e02c-40dc-9b46-16b38e999fdd",
   "metadata": {},
   "outputs": [],
   "source": [
    "df_kurs_usd = pd.DataFrame.from_records(kurs_usd)"
   ]
  },
  {
   "cell_type": "code",
   "execution_count": null,
   "id": "31a512b3-e1ac-4eb5-94d1-2a8e71e1a827",
   "metadata": {},
   "outputs": [],
   "source": [
    "df_kurs_usd"
   ]
  },
  {
   "cell_type": "code",
   "execution_count": null,
   "id": "acc3e244-4a5f-4f6a-9aa5-d460559123fc",
   "metadata": {},
   "outputs": [],
   "source": [
    "df_kurs_usd.columns"
   ]
  },
  {
   "cell_type": "code",
   "execution_count": null,
   "id": "4be0d169-a383-4171-85bb-4e3ff114d67d",
   "metadata": {},
   "outputs": [],
   "source": [
    "plt.plot(df_kurs_usd['mid'])"
   ]
  },
  {
   "cell_type": "code",
   "execution_count": null,
   "id": "ce9c8bf5-92c7-48b6-8d17-1de3eb1a9dad",
   "metadata": {},
   "outputs": [],
   "source": []
  }
 ],
 "metadata": {
  "kernelspec": {
   "display_name": "Python 3 (ipykernel)",
   "language": "python",
   "name": "python3"
  },
  "language_info": {
   "codemirror_mode": {
    "name": "ipython",
    "version": 3
   },
   "file_extension": ".py",
   "mimetype": "text/x-python",
   "name": "python",
   "nbconvert_exporter": "python",
   "pygments_lexer": "ipython3",
   "version": "3.13.7"
  }
 },
 "nbformat": 4,
 "nbformat_minor": 5
}
