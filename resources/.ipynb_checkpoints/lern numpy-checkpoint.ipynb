{
 "cells": [
  {
   "cell_type": "code",
   "execution_count": 2,
   "id": "5bced296-709a-40cd-808d-97ff783bdf2a",
   "metadata": {},
   "outputs": [],
   "source": [
    "import numpy as np"
   ]
  },
  {
   "cell_type": "code",
   "execution_count": 3,
   "id": "744d14b4-088e-4ddf-b4cb-912d908415fa",
   "metadata": {},
   "outputs": [
    {
     "data": {
      "text/plain": [
       "'2.3.3'"
      ]
     },
     "execution_count": 3,
     "metadata": {},
     "output_type": "execute_result"
    }
   ],
   "source": [
    "np.__version__"
   ]
  },
  {
   "cell_type": "code",
   "execution_count": 5,
   "id": "46fa997e-9e99-449d-bfa4-c5badea66f74",
   "metadata": {},
   "outputs": [
    {
     "data": {
      "text/plain": [
       "array([1, 2, 3, 4])"
      ]
     },
     "execution_count": 5,
     "metadata": {},
     "output_type": "execute_result"
    }
   ],
   "source": [
    "array1 = np.array([1,2,3,4])\n",
    "array1"
   ]
  },
  {
   "cell_type": "code",
   "execution_count": 6,
   "id": "784fbb79-8aed-4b33-a13b-068276be3d37",
   "metadata": {},
   "outputs": [
    {
     "data": {
      "text/plain": [
       "numpy.ndarray"
      ]
     },
     "execution_count": 6,
     "metadata": {},
     "output_type": "execute_result"
    }
   ],
   "source": [
    "type(array1)"
   ]
  },
  {
   "cell_type": "code",
   "execution_count": 10,
   "id": "5f5665ac-fc86-40f3-9d48-9272fe461600",
   "metadata": {},
   "outputs": [
    {
     "data": {
      "text/plain": [
       "(4,)"
      ]
     },
     "execution_count": 10,
     "metadata": {},
     "output_type": "execute_result"
    }
   ],
   "source": [
    "array1.shape"
   ]
  },
  {
   "cell_type": "code",
   "execution_count": 9,
   "id": "b834f032-6921-4905-a34c-05516cca1634",
   "metadata": {},
   "outputs": [
    {
     "data": {
      "text/plain": [
       "1"
      ]
     },
     "execution_count": 9,
     "metadata": {},
     "output_type": "execute_result"
    }
   ],
   "source": [
    "array1.ndim"
   ]
  },
  {
   "cell_type": "code",
   "execution_count": 11,
   "id": "d6fc1094-b9df-4243-b4d5-a6bee87ea6e6",
   "metadata": {},
   "outputs": [
    {
     "data": {
      "text/plain": [
       "4"
      ]
     },
     "execution_count": 11,
     "metadata": {},
     "output_type": "execute_result"
    }
   ],
   "source": [
    "array1.size"
   ]
  },
  {
   "cell_type": "code",
   "execution_count": 13,
   "id": "8ead05bd-120b-4a3d-983d-2611921a5a9d",
   "metadata": {},
   "outputs": [
    {
     "data": {
      "text/plain": [
       "array([[1, 2, 3, 4],\n",
       "       [1, 2, 3, 4]])"
      ]
     },
     "execution_count": 13,
     "metadata": {},
     "output_type": "execute_result"
    }
   ],
   "source": [
    "array1 = np.array([[1,2,3,4],[1,2,3,4]])\n",
    "array1"
   ]
  },
  {
   "cell_type": "code",
   "execution_count": 14,
   "id": "b6facb16-3286-46d0-b269-5b1e145714ab",
   "metadata": {},
   "outputs": [],
   "source": [
    "randAr = np.random.rand(3,3,3)"
   ]
  },
  {
   "cell_type": "code",
   "execution_count": 15,
   "id": "e9b2fb12-e004-4be0-b168-b494b7d536a6",
   "metadata": {},
   "outputs": [
    {
     "data": {
      "text/plain": [
       "array([[[0.82027248, 0.32348121, 0.15887515],\n",
       "        [0.07036133, 0.73776627, 0.3467061 ],\n",
       "        [0.1612529 , 0.53792613, 0.96176786]],\n",
       "\n",
       "       [[0.92306026, 0.77414395, 0.88551904],\n",
       "        [0.84856667, 0.37884606, 0.51092483],\n",
       "        [0.52367384, 0.95810927, 0.56524684]],\n",
       "\n",
       "       [[0.44995452, 0.84631905, 0.28662855],\n",
       "        [0.67903034, 0.50919948, 0.49716474],\n",
       "        [0.24425823, 0.44217029, 0.68726748]]])"
      ]
     },
     "execution_count": 15,
     "metadata": {},
     "output_type": "execute_result"
    }
   ],
   "source": [
    "randAr"
   ]
  },
  {
   "cell_type": "code",
   "execution_count": 17,
   "id": "a54a64ee-502d-46b4-8b28-fc65f8deb72e",
   "metadata": {},
   "outputs": [],
   "source": [
    "zeroes = np.zeros((2,3,4))"
   ]
  },
  {
   "cell_type": "code",
   "execution_count": 18,
   "id": "a5affcd5-0c4b-4bbb-b535-4a2cf7a3c5b0",
   "metadata": {},
   "outputs": [
    {
     "data": {
      "text/plain": [
       "array([[[0., 0., 0., 0.],\n",
       "        [0., 0., 0., 0.],\n",
       "        [0., 0., 0., 0.]],\n",
       "\n",
       "       [[0., 0., 0., 0.],\n",
       "        [0., 0., 0., 0.],\n",
       "        [0., 0., 0., 0.]]])"
      ]
     },
     "execution_count": 18,
     "metadata": {},
     "output_type": "execute_result"
    }
   ],
   "source": [
    "zeroes"
   ]
  },
  {
   "cell_type": "code",
   "execution_count": 19,
   "id": "16ab34e6-cdc5-4f65-98d4-5a74bf8a9a4c",
   "metadata": {},
   "outputs": [],
   "source": [
    "full = np.full((2,3,4),3)"
   ]
  },
  {
   "cell_type": "code",
   "execution_count": 20,
   "id": "65beddee-eb07-491a-9a17-b3a97e8ef540",
   "metadata": {},
   "outputs": [
    {
     "data": {
      "text/plain": [
       "array([[[3, 3, 3, 3],\n",
       "        [3, 3, 3, 3],\n",
       "        [3, 3, 3, 3]],\n",
       "\n",
       "       [[3, 3, 3, 3],\n",
       "        [3, 3, 3, 3],\n",
       "        [3, 3, 3, 3]]])"
      ]
     },
     "execution_count": 20,
     "metadata": {},
     "output_type": "execute_result"
    }
   ],
   "source": [
    "full"
   ]
  },
  {
   "cell_type": "code",
   "execution_count": 21,
   "id": "d25c70d5-f4ff-4cf2-acbc-a9f3c7eab265",
   "metadata": {},
   "outputs": [
    {
     "data": {
      "text/plain": [
       "array([[0.82027248, 0.32348121, 0.15887515],\n",
       "       [0.07036133, 0.73776627, 0.3467061 ],\n",
       "       [0.1612529 , 0.53792613, 0.96176786]])"
      ]
     },
     "execution_count": 21,
     "metadata": {},
     "output_type": "execute_result"
    }
   ],
   "source": [
    "randAr[0]"
   ]
  },
  {
   "cell_type": "code",
   "execution_count": 22,
   "id": "fc216fa2-7fd5-4453-a757-52bb3d2ce8d9",
   "metadata": {},
   "outputs": [
    {
     "data": {
      "text/plain": [
       "array([[[0.82027248, 0.32348121, 0.15887515],\n",
       "        [0.07036133, 0.73776627, 0.3467061 ],\n",
       "        [0.1612529 , 0.53792613, 0.96176786]],\n",
       "\n",
       "       [[0.92306026, 0.77414395, 0.88551904],\n",
       "        [0.84856667, 0.37884606, 0.51092483],\n",
       "        [0.52367384, 0.95810927, 0.56524684]]])"
      ]
     },
     "execution_count": 22,
     "metadata": {},
     "output_type": "execute_result"
    }
   ],
   "source": [
    "randAr[0:2]"
   ]
  },
  {
   "cell_type": "code",
   "execution_count": 27,
   "id": "d6da10ad-85b9-4884-b6c0-9c1bd6cb804b",
   "metadata": {},
   "outputs": [],
   "source": [
    "randAr1 = np.random.rand(3,4,2)\n",
    "randAr2 = np.random.rand(3,4,2)"
   ]
  },
  {
   "cell_type": "code",
   "execution_count": 28,
   "id": "77d85217-f163-4855-bdcf-b19e331d73e2",
   "metadata": {},
   "outputs": [
    {
     "data": {
      "text/plain": [
       "array([[[0.48601249, 0.12171247],\n",
       "        [0.08224551, 0.82294822],\n",
       "        [0.41372306, 0.3118967 ],\n",
       "        [0.93751739, 0.71095298]],\n",
       "\n",
       "       [[0.05567488, 0.07593917],\n",
       "        [0.42196107, 0.67771596],\n",
       "        [0.16688485, 0.45499574],\n",
       "        [0.04432105, 0.1244991 ]],\n",
       "\n",
       "       [[0.11042137, 0.0866284 ],\n",
       "        [0.44782674, 0.65969028],\n",
       "        [0.76483514, 0.54150828],\n",
       "        [0.72568988, 0.87767293]]])"
      ]
     },
     "execution_count": 28,
     "metadata": {},
     "output_type": "execute_result"
    }
   ],
   "source": [
    "randAr2"
   ]
  },
  {
   "cell_type": "code",
   "execution_count": 29,
   "id": "2950af42-d542-4e2a-885c-c774261d3e03",
   "metadata": {},
   "outputs": [],
   "source": [
    "a3 = np.add(randAr2,randAr1)"
   ]
  },
  {
   "cell_type": "code",
   "execution_count": 30,
   "id": "b55c0ec8-b369-4b91-b8fe-c549138a6c11",
   "metadata": {},
   "outputs": [
    {
     "data": {
      "text/plain": [
       "array([[[1.47517336, 0.61185102],\n",
       "        [0.19575217, 0.82917864],\n",
       "        [0.84950142, 0.40557633],\n",
       "        [1.83562487, 0.89657833]],\n",
       "\n",
       "       [[0.75254976, 0.36601239],\n",
       "        [0.87542671, 0.72619861],\n",
       "        [0.92023285, 1.12327816],\n",
       "        [0.51938378, 0.51071908]],\n",
       "\n",
       "       [[0.89826295, 0.16650051],\n",
       "        [1.23589905, 1.02707284],\n",
       "        [0.88107561, 1.34189865],\n",
       "        [1.56823035, 1.50790637]]])"
      ]
     },
     "execution_count": 30,
     "metadata": {},
     "output_type": "execute_result"
    }
   ],
   "source": [
    "a3"
   ]
  },
  {
   "cell_type": "code",
   "execution_count": 31,
   "id": "a2bd8f76-1f16-456f-a442-23d6e42956e8",
   "metadata": {},
   "outputs": [
    {
     "data": {
      "text/plain": [
       "array([[[1.47517336, 0.61185102],\n",
       "        [0.19575217, 0.82917864],\n",
       "        [0.84950142, 0.40557633],\n",
       "        [1.83562487, 0.89657833]],\n",
       "\n",
       "       [[0.75254976, 0.36601239],\n",
       "        [0.87542671, 3.        ],\n",
       "        [0.92023285, 1.12327816],\n",
       "        [0.51938378, 0.51071908]],\n",
       "\n",
       "       [[0.89826295, 0.16650051],\n",
       "        [1.23589905, 1.02707284],\n",
       "        [0.88107561, 1.34189865],\n",
       "        [1.56823035, 1.50790637]]])"
      ]
     },
     "execution_count": 31,
     "metadata": {},
     "output_type": "execute_result"
    }
   ],
   "source": [
    "a3[1][1][1] = 3\n",
    "a3"
   ]
  },
  {
   "cell_type": "code",
   "execution_count": 32,
   "id": "387462a0-e7dd-4d94-a9b2-6cbc79bea731",
   "metadata": {},
   "outputs": [
    {
     "data": {
      "text/plain": [
       "array([[[0.61185102, 1.47517336],\n",
       "        [0.19575217, 0.82917864],\n",
       "        [0.40557633, 0.84950142],\n",
       "        [0.89657833, 1.83562487]],\n",
       "\n",
       "       [[0.36601239, 0.75254976],\n",
       "        [0.87542671, 3.        ],\n",
       "        [0.92023285, 1.12327816],\n",
       "        [0.51071908, 0.51938378]],\n",
       "\n",
       "       [[0.16650051, 0.89826295],\n",
       "        [1.02707284, 1.23589905],\n",
       "        [0.88107561, 1.34189865],\n",
       "        [1.50790637, 1.56823035]]])"
      ]
     },
     "execution_count": 32,
     "metadata": {},
     "output_type": "execute_result"
    }
   ],
   "source": [
    "a3.sort()\n",
    "a3"
   ]
  },
  {
   "cell_type": "code",
   "execution_count": 35,
   "id": "db120014-8223-4e52-b28e-e1e99df20ffe",
   "metadata": {},
   "outputs": [],
   "source": [
    "on = np.ones((2,3,4))"
   ]
  },
  {
   "cell_type": "code",
   "execution_count": 36,
   "id": "4b365a91-6aa7-4810-ad56-cb3aeb7962e3",
   "metadata": {},
   "outputs": [
    {
     "data": {
      "text/plain": [
       "array([[[1., 1., 1., 1.],\n",
       "        [1., 1., 1., 1.],\n",
       "        [1., 1., 1., 1.]],\n",
       "\n",
       "       [[1., 1., 1., 1.],\n",
       "        [1., 1., 1., 1.],\n",
       "        [1., 1., 1., 1.]]])"
      ]
     },
     "execution_count": 36,
     "metadata": {},
     "output_type": "execute_result"
    }
   ],
   "source": [
    "on"
   ]
  },
  {
   "cell_type": "code",
   "execution_count": 39,
   "id": "14f77d31-e15d-4833-825b-d094dbca3345",
   "metadata": {},
   "outputs": [],
   "source": [
    "app = np.append(zeroes,on,axis=0)"
   ]
  },
  {
   "cell_type": "code",
   "execution_count": 40,
   "id": "4e070115-7bf2-4015-b8dc-d7f3307ca846",
   "metadata": {},
   "outputs": [
    {
     "data": {
      "text/plain": [
       "array([[[0., 0., 0., 0.],\n",
       "        [0., 0., 0., 0.],\n",
       "        [0., 0., 0., 0.]],\n",
       "\n",
       "       [[0., 0., 0., 0.],\n",
       "        [0., 0., 0., 0.],\n",
       "        [0., 0., 0., 0.]],\n",
       "\n",
       "       [[1., 1., 1., 1.],\n",
       "        [1., 1., 1., 1.],\n",
       "        [1., 1., 1., 1.]],\n",
       "\n",
       "       [[1., 1., 1., 1.],\n",
       "        [1., 1., 1., 1.],\n",
       "        [1., 1., 1., 1.]]])"
      ]
     },
     "execution_count": 40,
     "metadata": {},
     "output_type": "execute_result"
    }
   ],
   "source": [
    "app"
   ]
  },
  {
   "cell_type": "code",
   "execution_count": 41,
   "id": "da505319-b934-49dd-91e8-e83a72f0a3fc",
   "metadata": {},
   "outputs": [],
   "source": [
    "app = np.append(zeroes,on,axis=1)"
   ]
  },
  {
   "cell_type": "code",
   "execution_count": 42,
   "id": "70f5ed7c-828c-4066-9016-a0da115af14a",
   "metadata": {},
   "outputs": [
    {
     "data": {
      "text/plain": [
       "array([[[0., 0., 0., 0.],\n",
       "        [0., 0., 0., 0.],\n",
       "        [0., 0., 0., 0.],\n",
       "        [1., 1., 1., 1.],\n",
       "        [1., 1., 1., 1.],\n",
       "        [1., 1., 1., 1.]],\n",
       "\n",
       "       [[0., 0., 0., 0.],\n",
       "        [0., 0., 0., 0.],\n",
       "        [0., 0., 0., 0.],\n",
       "        [1., 1., 1., 1.],\n",
       "        [1., 1., 1., 1.],\n",
       "        [1., 1., 1., 1.]]])"
      ]
     },
     "execution_count": 42,
     "metadata": {},
     "output_type": "execute_result"
    }
   ],
   "source": [
    "app"
   ]
  },
  {
   "cell_type": "code",
   "execution_count": 44,
   "id": "a84e89e3-b4d7-48e6-9b1b-c5674d9de7f4",
   "metadata": {},
   "outputs": [],
   "source": [
    "iserted_arry = np.insert(zeroes,1,on,axis=0)"
   ]
  },
  {
   "cell_type": "code",
   "execution_count": 47,
   "id": "57913e0a-bf34-4980-aad2-46ccbfee81b9",
   "metadata": {},
   "outputs": [],
   "source": [
    "aary_del = np.random.rand(2,3,4)"
   ]
  },
  {
   "cell_type": "code",
   "execution_count": 48,
   "id": "fcddcdaf-23e9-4578-8030-6320264ea440",
   "metadata": {},
   "outputs": [
    {
     "data": {
      "text/plain": [
       "array([[[0.08320935, 0.80076845, 0.12869851, 0.32467051],\n",
       "        [0.4536042 , 0.33107929, 0.29985307, 0.74088185],\n",
       "        [0.6792085 , 0.60617078, 0.08945905, 0.18854771]],\n",
       "\n",
       "       [[0.91267675, 0.08508822, 0.01812347, 0.54275255],\n",
       "        [0.60653547, 0.59621522, 0.88010145, 0.82700315],\n",
       "        [0.01226538, 0.23495695, 0.54245527, 0.16040315]]])"
      ]
     },
     "execution_count": 48,
     "metadata": {},
     "output_type": "execute_result"
    }
   ],
   "source": [
    "aary_del"
   ]
  },
  {
   "cell_type": "code",
   "execution_count": 49,
   "id": "b93ff4cd-d1f0-4097-960e-6cb7742a5fc4",
   "metadata": {},
   "outputs": [
    {
     "data": {
      "text/plain": [
       "array([[[0.4536042 , 0.33107929, 0.29985307, 0.74088185],\n",
       "        [0.6792085 , 0.60617078, 0.08945905, 0.18854771]],\n",
       "\n",
       "       [[0.60653547, 0.59621522, 0.88010145, 0.82700315],\n",
       "        [0.01226538, 0.23495695, 0.54245527, 0.16040315]]])"
      ]
     },
     "execution_count": 49,
     "metadata": {},
     "output_type": "execute_result"
    }
   ],
   "source": [
    "np.delete(aary_del,0,axis=1)"
   ]
  },
  {
   "cell_type": "code",
   "execution_count": 50,
   "id": "4c7bd8d4-1a76-458f-b190-05163340b6f2",
   "metadata": {},
   "outputs": [],
   "source": [
    "np.save(\"new-arry\",aary_del)"
   ]
  },
  {
   "cell_type": "code",
   "execution_count": null,
   "id": "3f634a54-a87d-4bd6-8107-b34f95a19d46",
   "metadata": {},
   "outputs": [],
   "source": []
  }
 ],
 "metadata": {
  "kernelspec": {
   "display_name": "Python 3 (ipykernel)",
   "language": "python",
   "name": "python3"
  },
  "language_info": {
   "codemirror_mode": {
    "name": "ipython",
    "version": 3
   },
   "file_extension": ".py",
   "mimetype": "text/x-python",
   "name": "python",
   "nbconvert_exporter": "python",
   "pygments_lexer": "ipython3",
   "version": "3.13.7"
  }
 },
 "nbformat": 4,
 "nbformat_minor": 5
}
